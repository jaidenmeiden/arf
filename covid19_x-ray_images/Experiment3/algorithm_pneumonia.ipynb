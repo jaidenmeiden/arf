{
 "cells": [
  {
   "cell_type": "markdown",
   "metadata": {},
   "source": [
    "### Detecting Pneumonia (89%+ accuracy)"
   ]
  },
  {
   "cell_type": "code",
   "execution_count": 1,
   "metadata": {},
   "outputs": [
    {
     "name": "stderr",
     "output_type": "stream",
     "text": [
      "/home/oem/Desarrollo/Master/Homework/arf/covid19_x-ray_images/venv/lib/python3.7/site-packages/pandas/compat/__init__.py:120: UserWarning: Could not import the lzma module. Your installed Python is incomplete. Attempting to use lzma compression will result in a RuntimeError.\n",
      "  warnings.warn(msg)\n"
     ]
    }
   ],
   "source": [
    "import os\n",
    "import os.path\n",
    "from os import path\n",
    "import shutil\n",
    "import visualkeras\n",
    "from PIL import Image\n",
    "import numpy as np\n",
    "import tensorflow as tf\n",
    "from tensorflow.compat.v1 import ConfigProto\n",
    "from tensorflow.compat.v1 import InteractiveSession\n",
    "\n",
    "config = ConfigProto()\n",
    "config.gpu_options.allow_growth = True\n",
    "session = InteractiveSession(config=config)"
   ]
  },
  {
   "cell_type": "code",
   "execution_count": 2,
   "metadata": {},
   "outputs": [
    {
     "name": "stdout",
     "output_type": "stream",
     "text": [
      "(1858, 2090)\n"
     ]
    }
   ],
   "source": [
    "train_dir = os.path.join('../DataSet1/chest-xray-pneumonia/chest_xray/train')\n",
    "test_dir = os.path.join('../DataSet1/chest-xray-pneumonia/chest_xray/test')\n",
    "val_dir = os.path.join('../DataSet1/chest-xray-pneumonia/chest_xray/val')\n",
    "\n",
    "\n",
    "im = np.array(Image.open(train_dir + '/NORMAL/IM-0115-0001.jpeg'))\n",
    "print(im.shape)"
   ]
  },
  {
   "cell_type": "code",
   "execution_count": 3,
   "metadata": {},
   "outputs": [],
   "source": [
    "im_h, im_w = 256, 256"
   ]
  },
  {
   "cell_type": "code",
   "execution_count": 4,
   "metadata": {},
   "outputs": [
    {
     "name": "stdout",
     "output_type": "stream",
     "text": [
      "Eliminando contenido...\n"
     ]
    }
   ],
   "source": [
    "dir_path = 'mod_input'\n",
    "\n",
    "if path.exists(dir_path):\n",
    "    print('Eliminando contenido...')\n",
    "    try:\n",
    "        shutil.rmtree(dir_path)\n",
    "    except OSError as e:\n",
    "        print(\"Error: %s : %s\" % (dir_path, e.strerror))\n",
    "\n",
    "os.mkdir('mod_input')\n",
    "os.mkdir('mod_input/test')\n",
    "os.mkdir('mod_input/train')\n",
    "os.mkdir('mod_input/val')\n",
    "\n",
    "\n",
    "os.mkdir('mod_input/test/NORMAL')\n",
    "os.mkdir('mod_input/test/PNEUMONIA')\n",
    "\n",
    "os.mkdir('mod_input/train/NORMAL')\n",
    "os.mkdir('mod_input/train/PNEUMONIA')\n",
    "\n",
    "\n",
    "os.mkdir('mod_input/val/NORMAL')\n",
    "os.mkdir('mod_input/val/PNEUMONIA')"
   ]
  },
  {
   "cell_type": "code",
   "execution_count": 5,
   "metadata": {},
   "outputs": [],
   "source": [
    "mod_train_dir = os.path.join('mod_input/train')\n",
    "mod_test_dir = os.path.join('mod_input/test')                             \n",
    "mod_val_dir = os.path.join('mod_input/val')   "
   ]
  },
  {
   "cell_type": "code",
   "execution_count": 6,
   "metadata": {},
   "outputs": [],
   "source": [
    "train_NORMAL_dir = os.path.join(train_dir,'NORMAL')\n",
    "train_NORMAL_imgs = os.listdir(train_NORMAL_dir)\n",
    "for img in train_NORMAL_imgs:\n",
    "    im = Image.open(train_NORMAL_dir + '/' + img)\n",
    "    im = im.resize((im_w, im_h))\n",
    "    im.save(mod_train_dir + '/NORMAL/' + img)\n",
    "    \n",
    "train_PNEUMONIA_dir = os.path.join(train_dir,'PNEUMONIA')\n",
    "train_PNEUMONIA_imgs = os.listdir(train_PNEUMONIA_dir)\n",
    "for img in train_PNEUMONIA_imgs:\n",
    "    im = Image.open(train_PNEUMONIA_dir + '/' + img)\n",
    "    im = im.resize((im_w, im_h))\n",
    "    im.save(mod_train_dir + '/PNEUMONIA/' + img)\n",
    "    \n",
    "\n",
    "    \n",
    "test_NORMAL_dir = os.path.join(test_dir,'NORMAL')\n",
    "test_NORMAL_imgs = os.listdir(test_NORMAL_dir)\n",
    "for img in test_NORMAL_imgs:\n",
    "    im = Image.open(test_NORMAL_dir + '/' + img)\n",
    "    im = im.resize((im_w, im_h))\n",
    "    im.save(mod_test_dir + '/NORMAL/' + img)\n",
    "    \n",
    "test_PNEUMONIA_dir = os.path.join(test_dir,'PNEUMONIA')\n",
    "test_PNEUMONIA_imgs = os.listdir(test_PNEUMONIA_dir)\n",
    "for img in test_PNEUMONIA_imgs:\n",
    "    im = Image.open(test_PNEUMONIA_dir + '/' + img)\n",
    "    im = im.resize((im_w, im_h))\n",
    "    im.save(mod_test_dir + '/PNEUMONIA/' + img)\n",
    "    \n",
    "val_NORMAL_dir = os.path.join(val_dir,'NORMAL')\n",
    "val_NORMAL_imgs = os.listdir(val_NORMAL_dir)\n",
    "for img in val_NORMAL_imgs:\n",
    "    im = Image.open(val_NORMAL_dir + '/' + img)\n",
    "    im = im.resize((im_w, im_h))\n",
    "    im.save(mod_val_dir + '/NORMAL/' + img)\n",
    "    \n",
    "val_PNEUMONIA_dir = os.path.join(val_dir,'PNEUMONIA')\n",
    "val_PNEUMONIA_imgs = os.listdir(val_PNEUMONIA_dir)\n",
    "for img in val_PNEUMONIA_imgs:\n",
    "    im = Image.open(val_PNEUMONIA_dir + '/' + img)\n",
    "    im = im.resize((im_w, im_h))\n",
    "    im.save(mod_val_dir + '/PNEUMONIA/' + img)"
   ]
  },
  {
   "cell_type": "code",
   "execution_count": 7,
   "metadata": {},
   "outputs": [
    {
     "name": "stdout",
     "output_type": "stream",
     "text": [
      "(1, 256, 256, 1)\n"
     ]
    }
   ],
   "source": [
    "#taking an image for prediction\n",
    "pr_im = Image.open(mod_test_dir + '/NORMAL/' + test_NORMAL_imgs[4])\n",
    "pr_im = pr_im.resize((im_w, im_h))\n",
    "pred_img = np.array(pr_im)\n",
    "pred_img = pred_img.reshape(1,im_h,im_w,1)\n",
    "print(pred_img.shape)"
   ]
  },
  {
   "cell_type": "code",
   "execution_count": 8,
   "metadata": {},
   "outputs": [],
   "source": [
    "# names = os.listdir(mod_train_dir + '/NORMAL')\n",
    "# print(names[:5])"
   ]
  },
  {
   "cell_type": "code",
   "execution_count": 9,
   "metadata": {},
   "outputs": [],
   "source": [
    "model = tf.keras.models.Sequential([\n",
    "    #first convolution\n",
    "    tf.keras.layers.Conv2D(32, 3, padding='same', activation='relu', input_shape=(im_h, im_w, 1)),\n",
    "    tf.keras.layers.MaxPooling2D(2,2),\n",
    "    \n",
    "    #second convolution\n",
    "    tf.keras.layers.Conv2D(32, 3, padding='same', activation='relu'),\n",
    "    tf.keras.layers.MaxPooling2D(2,2),\n",
    "   \n",
    "    \n",
    "    #third convolution\n",
    "    tf.keras.layers.Conv2D(64, 3, padding='same', activation='relu'),\n",
    "    tf.keras.layers.MaxPooling2D(2,2),\n",
    "  \n",
    "    \n",
    "    #fourth convolution\n",
    "    tf.keras.layers.Conv2D(64, 3, padding='same', activation='relu'),\n",
    "    tf.keras.layers.MaxPooling2D(2,2),\n",
    "    \n",
    "\n",
    "    \n",
    "    #fifth convolution\n",
    "    tf.keras.layers.Conv2D(64, 3, padding='same', activation='relu'),\n",
    "    tf.keras.layers.MaxPooling2D(2,2),\n",
    "    \n",
    "\n",
    "    \n",
    "    #sixth convolution\n",
    "    tf.keras.layers.Conv2D(64, 3, padding='same', activation='relu'),\n",
    "    tf.keras.layers.MaxPooling2D(2,2),\n",
    "   \n",
    "    \n",
    "    #seventh convolution\n",
    "#     tf.keras.layers.Conv2D(128, 3, padding='same', activation='relu'),\n",
    "#     tf.keras.layers.MaxPooling2D(2,2),\n",
    "    \n",
    "    tf.keras.layers.Flatten(),\n",
    "    tf.keras.layers.Dense(512, activation='relu'),\n",
    "    tf.keras.layers.Dropout(0.2),\n",
    "    tf.keras.layers.BatchNormalization(),\n",
    "    tf.keras.layers.Dense(512, activation='relu'),\n",
    "    tf.keras.layers.BatchNormalization(),\n",
    "    tf.keras.layers.Dropout(0.2),\n",
    "    tf.keras.layers.Dense(512, activation='relu'),\n",
    "    \n",
    "    tf.keras.layers.Dense(1, activation='sigmoid')\n",
    "\n",
    "    \n",
    "])"
   ]
  },
  {
   "cell_type": "code",
   "execution_count": 10,
   "metadata": {},
   "outputs": [
    {
     "name": "stdout",
     "output_type": "stream",
     "text": [
      "Model: \"sequential\"\n",
      "_________________________________________________________________\n",
      "Layer (type)                 Output Shape              Param #   \n",
      "=================================================================\n",
      "conv2d (Conv2D)              (None, 256, 256, 32)      320       \n",
      "_________________________________________________________________\n",
      "max_pooling2d (MaxPooling2D) (None, 128, 128, 32)      0         \n",
      "_________________________________________________________________\n",
      "conv2d_1 (Conv2D)            (None, 128, 128, 32)      9248      \n",
      "_________________________________________________________________\n",
      "max_pooling2d_1 (MaxPooling2 (None, 64, 64, 32)        0         \n",
      "_________________________________________________________________\n",
      "conv2d_2 (Conv2D)            (None, 64, 64, 64)        18496     \n",
      "_________________________________________________________________\n",
      "max_pooling2d_2 (MaxPooling2 (None, 32, 32, 64)        0         \n",
      "_________________________________________________________________\n",
      "conv2d_3 (Conv2D)            (None, 32, 32, 64)        36928     \n",
      "_________________________________________________________________\n",
      "max_pooling2d_3 (MaxPooling2 (None, 16, 16, 64)        0         \n",
      "_________________________________________________________________\n",
      "conv2d_4 (Conv2D)            (None, 16, 16, 64)        36928     \n",
      "_________________________________________________________________\n",
      "max_pooling2d_4 (MaxPooling2 (None, 8, 8, 64)          0         \n",
      "_________________________________________________________________\n",
      "conv2d_5 (Conv2D)            (None, 8, 8, 64)          36928     \n",
      "_________________________________________________________________\n",
      "max_pooling2d_5 (MaxPooling2 (None, 4, 4, 64)          0         \n",
      "_________________________________________________________________\n",
      "flatten (Flatten)            (None, 1024)              0         \n",
      "_________________________________________________________________\n",
      "dense (Dense)                (None, 512)               524800    \n",
      "_________________________________________________________________\n",
      "dropout (Dropout)            (None, 512)               0         \n",
      "_________________________________________________________________\n",
      "batch_normalization (BatchNo (None, 512)               2048      \n",
      "_________________________________________________________________\n",
      "dense_1 (Dense)              (None, 512)               262656    \n",
      "_________________________________________________________________\n",
      "batch_normalization_1 (Batch (None, 512)               2048      \n",
      "_________________________________________________________________\n",
      "dropout_1 (Dropout)          (None, 512)               0         \n",
      "_________________________________________________________________\n",
      "dense_2 (Dense)              (None, 512)               262656    \n",
      "_________________________________________________________________\n",
      "dense_3 (Dense)              (None, 1)                 513       \n",
      "=================================================================\n",
      "Total params: 1,193,569\n",
      "Trainable params: 1,191,521\n",
      "Non-trainable params: 2,048\n",
      "_________________________________________________________________\n"
     ]
    }
   ],
   "source": [
    "model.summary()"
   ]
  },
  {
   "cell_type": "code",
   "execution_count": 11,
   "metadata": {},
   "outputs": [
    {
     "data": {
      "image/png": "[encoded data removed]",
      "text/plain": [
       "<PIL.Image.Image image mode=RGBA size=1115x1366 at 0x7F5A70576240>"
      ]
     },
     "execution_count": 11,
     "metadata": {},
     "output_type": "execute_result"
    }
   ],
   "source": [
    "visualkeras.layered_view(model)"
   ]
  },
  {
   "cell_type": "code",
   "execution_count": 12,
   "metadata": {},
   "outputs": [],
   "source": [
    "from tensorflow.keras.optimizers import RMSprop\n",
    "\n",
    "model.compile(\n",
    "    loss='binary_crossentropy',\n",
    "    optimizer=RMSprop(lr=0.001),\n",
    "    metrics=['accuracy']\n",
    ")"
   ]
  },
  {
   "cell_type": "code",
   "execution_count": 13,
   "metadata": {},
   "outputs": [
    {
     "name": "stdout",
     "output_type": "stream",
     "text": [
      "Found 5216 images belonging to 2 classes.\n",
      "Found 16 images belonging to 2 classes.\n",
      "Found 624 images belonging to 2 classes.\n"
     ]
    }
   ],
   "source": [
    "from tensorflow.keras.preprocessing.image import ImageDataGenerator\n",
    "batch_size = 32\n",
    "\n",
    "train_datagen = ImageDataGenerator(\n",
    "    rescale = 1./255,\n",
    "    horizontal_flip = True,\n",
    "    zoom_range = 0.2,\n",
    "    shear_range = 0.2,\n",
    ")\n",
    "\n",
    "test_datagen = ImageDataGenerator(rescale = 1./255)\n",
    "val_datagen = ImageDataGenerator(rescale = 1./255)\n",
    "\n",
    "train_generator = train_datagen.flow_from_directory(\n",
    "    mod_train_dir,\n",
    "    batch_size=batch_size,\n",
    "        color_mode=\"grayscale\",\n",
    "#     target_size=(im_h, im_w),\n",
    "    class_mode='binary')\n",
    "\n",
    "val_generator = val_datagen.flow_from_directory(\n",
    "    mod_val_dir,\n",
    "    batch_size=batch_size,\n",
    "        color_mode=\"grayscale\",\n",
    "#     target_size=(im_h, im_w),\n",
    "    class_mode='binary')\n",
    "\n",
    "test_generator = test_datagen.flow_from_directory(\n",
    "    mod_test_dir,\n",
    "    batch_size=batch_size,\n",
    "        color_mode=\"grayscale\",\n",
    "#     target_size=(im_h, im_w),\n",
    "    class_mode='binary')"
   ]
  },
  {
   "cell_type": "code",
   "execution_count": 14,
   "metadata": {},
   "outputs": [
    {
     "name": "stdout",
     "output_type": "stream",
     "text": [
      "<tensorflow.python.keras.preprocessing.image.ImageDataGenerator object at 0x7f5a703c4f98> <tensorflow.python.keras.preprocessing.image.DirectoryIterator object at 0x7f5a7050f6d8>\n"
     ]
    }
   ],
   "source": [
    "print(test_datagen, test_generator)"
   ]
  },
  {
   "cell_type": "code",
   "execution_count": 15,
   "metadata": {},
   "outputs": [],
   "source": [
    "call_back = tf.keras.callbacks.EarlyStopping(patience=8, restore_best_weights=True)"
   ]
  },
  {
   "cell_type": "code",
   "execution_count": 16,
   "metadata": {},
   "outputs": [
    {
     "name": "stdout",
     "output_type": "stream",
     "text": [
      "Epoch 1/100\n",
      "163/163 [==============================] - 146s 883ms/step - loss: 0.5063 - accuracy: 0.7660 - val_loss: 0.6029 - val_accuracy: 0.6250\n",
      "Epoch 2/100\n",
      "163/163 [==============================] - 143s 875ms/step - loss: 0.2644 - accuracy: 0.8990 - val_loss: 0.3780 - val_accuracy: 0.7500\n",
      "Epoch 3/100\n",
      "163/163 [==============================] - 140s 861ms/step - loss: 0.2122 - accuracy: 0.9131 - val_loss: 0.2976 - val_accuracy: 0.9375\n",
      "Epoch 4/100\n",
      "163/163 [==============================] - 140s 860ms/step - loss: 0.1719 - accuracy: 0.9365 - val_loss: 3.8812 - val_accuracy: 0.5000\n",
      "Epoch 5/100\n",
      "163/163 [==============================] - 140s 859ms/step - loss: 0.1679 - accuracy: 0.9349 - val_loss: 8.9821 - val_accuracy: 0.5000\n",
      "Epoch 6/100\n",
      "163/163 [==============================] - 140s 860ms/step - loss: 0.1820 - accuracy: 0.9411 - val_loss: 0.3153 - val_accuracy: 0.8750\n",
      "Epoch 7/100\n",
      "163/163 [==============================] - 140s 860ms/step - loss: 0.1448 - accuracy: 0.9471 - val_loss: 1.0337 - val_accuracy: 0.6875\n",
      "Epoch 8/100\n",
      "163/163 [==============================] - 141s 864ms/step - loss: 0.1580 - accuracy: 0.9433 - val_loss: 0.2872 - val_accuracy: 0.8750\n",
      "Epoch 9/100\n",
      "163/163 [==============================] - 151s 927ms/step - loss: 0.1682 - accuracy: 0.9419 - val_loss: 0.2831 - val_accuracy: 0.8750\n",
      "Epoch 10/100\n",
      "163/163 [==============================] - 140s 860ms/step - loss: 0.1451 - accuracy: 0.9436 - val_loss: 0.5236 - val_accuracy: 0.6875\n",
      "Epoch 11/100\n",
      "163/163 [==============================] - 140s 860ms/step - loss: 0.1378 - accuracy: 0.9519 - val_loss: 0.8041 - val_accuracy: 0.7500\n",
      "Epoch 12/100\n",
      "163/163 [==============================] - 140s 859ms/step - loss: 0.1275 - accuracy: 0.9523 - val_loss: 1.5627 - val_accuracy: 0.6250\n",
      "Epoch 13/100\n",
      "163/163 [==============================] - 145s 886ms/step - loss: 0.1254 - accuracy: 0.9600 - val_loss: 0.7971 - val_accuracy: 0.7500\n",
      "Epoch 14/100\n",
      "163/163 [==============================] - 144s 882ms/step - loss: 0.1309 - accuracy: 0.9610 - val_loss: 1.2799 - val_accuracy: 0.6250\n",
      "Epoch 15/100\n",
      "163/163 [==============================] - 146s 892ms/step - loss: 0.1315 - accuracy: 0.9521 - val_loss: 3.5510 - val_accuracy: 0.5625\n",
      "Epoch 16/100\n",
      "163/163 [==============================] - 142s 873ms/step - loss: 0.1207 - accuracy: 0.9647 - val_loss: 1.1972 - val_accuracy: 0.6250\n",
      "Epoch 17/100\n",
      "163/163 [==============================] - 153s 935ms/step - loss: 0.1265 - accuracy: 0.9492 - val_loss: 0.2565 - val_accuracy: 0.8750\n",
      "Epoch 18/100\n",
      "163/163 [==============================] - 156s 957ms/step - loss: 0.1142 - accuracy: 0.9630 - val_loss: 1.3113 - val_accuracy: 0.5625\n",
      "Epoch 19/100\n",
      "163/163 [==============================] - 158s 969ms/step - loss: 0.1146 - accuracy: 0.9640 - val_loss: 0.3965 - val_accuracy: 0.7500\n",
      "Epoch 20/100\n",
      "163/163 [==============================] - 155s 948ms/step - loss: 0.1098 - accuracy: 0.9609 - val_loss: 0.4420 - val_accuracy: 0.7500\n",
      "Epoch 21/100\n",
      "163/163 [==============================] - 157s 962ms/step - loss: 0.1188 - accuracy: 0.9614 - val_loss: 0.7808 - val_accuracy: 0.6875\n",
      "Epoch 22/100\n",
      "163/163 [==============================] - 154s 940ms/step - loss: 0.1130 - accuracy: 0.9615 - val_loss: 2.2452 - val_accuracy: 0.6250\n",
      "Epoch 23/100\n",
      "163/163 [==============================] - 149s 916ms/step - loss: 0.1083 - accuracy: 0.9602 - val_loss: 0.4432 - val_accuracy: 0.8125\n",
      "Epoch 24/100\n",
      "163/163 [==============================] - 150s 922ms/step - loss: 0.1252 - accuracy: 0.9547 - val_loss: 0.9030 - val_accuracy: 0.6250\n",
      "Epoch 25/100\n",
      "163/163 [==============================] - 153s 936ms/step - loss: 0.1082 - accuracy: 0.9638 - val_loss: 0.3311 - val_accuracy: 0.8125\n"
     ]
    }
   ],
   "source": [
    "history = model.fit(\n",
    "    train_generator,\n",
    "    validation_data = val_generator,\n",
    "    epochs = 100,\n",
    "    #steps_per_epoch=326,\n",
    "    callbacks = [call_back]\n",
    ")"
   ]
  },
  {
   "cell_type": "code",
   "execution_count": 17,
   "metadata": {},
   "outputs": [],
   "source": [
    "%matplotlib inline\n",
    "\n",
    "import matplotlib.pyplot as plt"
   ]
  },
  {
   "cell_type": "code",
   "execution_count": 18,
   "metadata": {},
   "outputs": [
    {
     "data": {
      "image/png": "[encoded data removed]",
      "text/plain": [
       "<Figure size 432x288 with 1 Axes>"
      ]
     },
     "metadata": {
      "needs_background": "light"
     },
     "output_type": "display_data"
    },
    {
     "data": {
      "image/png": "[encoded data removed]",
      "text/plain": [
       "<Figure size 432x288 with 1 Axes>"
      ]
     },
     "metadata": {
      "needs_background": "light"
     },
     "output_type": "display_data"
    }
   ],
   "source": [
    "acc = history.history['accuracy']\n",
    "val_acc = history.history['val_accuracy']\n",
    "loss = history.history['loss']\n",
    "val_loss = history.history['val_loss']\n",
    "\n",
    "epochs = range(len(acc))\n",
    "plt.plot(epochs, acc)\n",
    "plt.plot(epochs, val_acc)\n",
    "plt.title('Training & validation on accuracy')\n",
    "plt.savefig(\"Training_and_validation_accuracy.png\")\n",
    "plt.figure()\n",
    "\n",
    "plt.plot(epochs,loss)\n",
    "plt.plot(epochs,val_loss)\n",
    "plt.title('Training & validation loss')\n",
    "plt.savefig(\"Training_and_validation_loss.png\")"
   ]
  },
  {
   "cell_type": "code",
   "execution_count": 19,
   "metadata": {},
   "outputs": [
    {
     "name": "stdout",
     "output_type": "stream",
     "text": [
      "X-Ray is predicted to be Normal\n"
     ]
    }
   ],
   "source": [
    "classes = model.predict(pred_img, batch_size=batch_size)\n",
    "if classes[0] > 0.5:\n",
    "    print('X-Ray is predicted to have Pneumonia')\n",
    "else:\n",
    "    print('X-Ray is predicted to be Normal')"
   ]
  },
  {
   "cell_type": "code",
   "execution_count": 20,
   "metadata": {},
   "outputs": [],
   "source": [
    "model.save(\"Pneumonia_89_accuracy.h5\")"
   ]
  },
  {
   "cell_type": "code",
   "execution_count": 21,
   "metadata": {},
   "outputs": [
    {
     "name": "stdout",
     "output_type": "stream",
     "text": [
      "20/20 [==============================] - 3s 147ms/step - loss: 0.3805 - accuracy: 0.8894\n",
      "Loss 0.38046151399612427\n",
      "Accuracy 0.8894230723381042\n"
     ]
    }
   ],
   "source": [
    "score = model.evaluate(test_generator)\n",
    "\n",
    "print(\"Loss\",score[0])\n",
    "print(\"Accuracy\",score[1])"
   ]
  },
  {
   "cell_type": "code",
   "execution_count": null,
   "metadata": {},
   "outputs": [],
   "source": []
  }
 ],
 "metadata": {
  "kernelspec": {
   "display_name": "Python 3",
   "language": "python",
   "name": "python3"
  },
  "language_info": {
   "codemirror_mode": {
    "name": "ipython",
    "version": 3
   },
   "file_extension": ".py",
   "mimetype": "text/x-python",
   "name": "python",
   "nbconvert_exporter": "python",
   "pygments_lexer": "ipython3",
   "version": "3.7.2"
  }
 },
 "nbformat": 4,
 "nbformat_minor": 1
}