{
 "cells": [
  {
   "cell_type": "code",
   "execution_count": 1,
   "metadata": {
    "pycharm": {
     "is_executing": true
    }
   },
   "outputs": [
    {
     "name": "stderr",
     "output_type": "stream",
     "text": [
      "/home/oem/Desarrollo/Master/Homework/arf/covid19_x-ray_images/venv/lib/python3.7/site-packages/pandas/compat/__init__.py:120: UserWarning: Could not import the lzma module. Your installed Python is incomplete. Attempting to use lzma compression will result in a RuntimeError.\n",
      "  warnings.warn(msg)\n"
     ]
    }
   ],
   "source": [
    "import numpy as np\n",
    "import matplotlib.pyplot as plt\n",
    "import keras\n",
    "from keras.layers import *\n",
    "from keras.models import *\n",
    "from keras.preprocessing import image\n",
    "import tensorflow as tf\n",
    "from keras.applications.vgg16 import VGG16\n",
    "from keras.models import Model"
   ]
  },
  {
   "cell_type": "code",
   "execution_count": 2,
   "metadata": {
    "pycharm": {
     "is_executing": true,
     "name": "#%%\n"
    }
   },
   "outputs": [
    {
     "name": "stdout",
     "output_type": "stream",
     "text": [
      "Model: \"vgg16\"\n",
      "_________________________________________________________________\n",
      "Layer (type)                 Output Shape              Param #   \n",
      "=================================================================\n",
      "input_1 (InputLayer)         [(None, 224, 224, 3)]     0         \n",
      "_________________________________________________________________\n",
      "block1_conv1 (Conv2D)        (None, 224, 224, 64)      1792      \n",
      "_________________________________________________________________\n",
      "block1_conv2 (Conv2D)        (None, 224, 224, 64)      36928     \n",
      "_________________________________________________________________\n",
      "block1_pool (MaxPooling2D)   (None, 112, 112, 64)      0         \n",
      "_________________________________________________________________\n",
      "block2_conv1 (Conv2D)        (None, 112, 112, 128)     73856     \n",
      "_________________________________________________________________\n",
      "block2_conv2 (Conv2D)        (None, 112, 112, 128)     147584    \n",
      "_________________________________________________________________\n",
      "block2_pool (MaxPooling2D)   (None, 56, 56, 128)       0         \n",
      "_________________________________________________________________\n",
      "block3_conv1 (Conv2D)        (None, 56, 56, 256)       295168    \n",
      "_________________________________________________________________\n",
      "block3_conv2 (Conv2D)        (None, 56, 56, 256)       590080    \n",
      "_________________________________________________________________\n",
      "block3_conv3 (Conv2D)        (None, 56, 56, 256)       590080    \n",
      "_________________________________________________________________\n",
      "block3_pool (MaxPooling2D)   (None, 28, 28, 256)       0         \n",
      "_________________________________________________________________\n",
      "block4_conv1 (Conv2D)        (None, 28, 28, 512)       1180160   \n",
      "_________________________________________________________________\n",
      "block4_conv2 (Conv2D)        (None, 28, 28, 512)       2359808   \n",
      "_________________________________________________________________\n",
      "block4_conv3 (Conv2D)        (None, 28, 28, 512)       2359808   \n",
      "_________________________________________________________________\n",
      "block4_pool (MaxPooling2D)   (None, 14, 14, 512)       0         \n",
      "_________________________________________________________________\n",
      "block5_conv1 (Conv2D)        (None, 14, 14, 512)       2359808   \n",
      "_________________________________________________________________\n",
      "block5_conv2 (Conv2D)        (None, 14, 14, 512)       2359808   \n",
      "_________________________________________________________________\n",
      "block5_conv3 (Conv2D)        (None, 14, 14, 512)       2359808   \n",
      "_________________________________________________________________\n",
      "block5_pool (MaxPooling2D)   (None, 7, 7, 512)         0         \n",
      "=================================================================\n",
      "Total params: 14,714,688\n",
      "Trainable params: 14,714,688\n",
      "Non-trainable params: 0\n",
      "_________________________________________________________________\n"
     ]
    }
   ],
   "source": [
    "temelModel = VGG16(weights='imagenet',include_top = False,  input_shape=(224,224,3))\n",
    "\n",
    "temelModel.summary()\n",
    "for layer in temelModel.layers:\n",
    "    layer.trainable = False\n",
    "\n",
    "x = Flatten()(temelModel.output)\n",
    "x = Dense(1024, activation='relu')(x)\n",
    "x = Dropout(0.4)(x)\n",
    "x = Dense(1024, activation='relu')(x)\n",
    "x = Dense(2,activation='softmax')(x)\n",
    "\n",
    "model = Model(inputs = temelModel.input, outputs = x)"
   ]
  },
  {
   "cell_type": "code",
   "execution_count": 3,
   "metadata": {
    "pycharm": {
     "is_executing": true,
     "name": "#%%\n"
    }
   },
   "outputs": [
    {
     "name": "stdout",
     "output_type": "stream",
     "text": [
      "Model: \"model\"\n",
      "_________________________________________________________________\n",
      "Layer (type)                 Output Shape              Param #   \n",
      "=================================================================\n",
      "input_1 (InputLayer)         [(None, 224, 224, 3)]     0         \n",
      "_________________________________________________________________\n",
      "block1_conv1 (Conv2D)        (None, 224, 224, 64)      1792      \n",
      "_________________________________________________________________\n",
      "block1_conv2 (Conv2D)        (None, 224, 224, 64)      36928     \n",
      "_________________________________________________________________\n",
      "block1_pool (MaxPooling2D)   (None, 112, 112, 64)      0         \n",
      "_________________________________________________________________\n",
      "block2_conv1 (Conv2D)        (None, 112, 112, 128)     73856     \n",
      "_________________________________________________________________\n",
      "block2_conv2 (Conv2D)        (None, 112, 112, 128)     147584    \n",
      "_________________________________________________________________\n",
      "block2_pool (MaxPooling2D)   (None, 56, 56, 128)       0         \n",
      "_________________________________________________________________\n",
      "block3_conv1 (Conv2D)        (None, 56, 56, 256)       295168    \n",
      "_________________________________________________________________\n",
      "block3_conv2 (Conv2D)        (None, 56, 56, 256)       590080    \n",
      "_________________________________________________________________\n",
      "block3_conv3 (Conv2D)        (None, 56, 56, 256)       590080    \n",
      "_________________________________________________________________\n",
      "block3_pool (MaxPooling2D)   (None, 28, 28, 256)       0         \n",
      "_________________________________________________________________\n",
      "block4_conv1 (Conv2D)        (None, 28, 28, 512)       1180160   \n",
      "_________________________________________________________________\n",
      "block4_conv2 (Conv2D)        (None, 28, 28, 512)       2359808   \n",
      "_________________________________________________________________\n",
      "block4_conv3 (Conv2D)        (None, 28, 28, 512)       2359808   \n",
      "_________________________________________________________________\n",
      "block4_pool (MaxPooling2D)   (None, 14, 14, 512)       0         \n",
      "_________________________________________________________________\n",
      "block5_conv1 (Conv2D)        (None, 14, 14, 512)       2359808   \n",
      "_________________________________________________________________\n",
      "block5_conv2 (Conv2D)        (None, 14, 14, 512)       2359808   \n",
      "_________________________________________________________________\n",
      "block5_conv3 (Conv2D)        (None, 14, 14, 512)       2359808   \n",
      "_________________________________________________________________\n",
      "block5_pool (MaxPooling2D)   (None, 7, 7, 512)         0         \n",
      "_________________________________________________________________\n",
      "flatten (Flatten)            (None, 25088)             0         \n",
      "_________________________________________________________________\n",
      "dense (Dense)                (None, 1024)              25691136  \n",
      "_________________________________________________________________\n",
      "dropout (Dropout)            (None, 1024)              0         \n",
      "_________________________________________________________________\n",
      "dense_1 (Dense)              (None, 1024)              1049600   \n",
      "_________________________________________________________________\n",
      "dense_2 (Dense)              (None, 2)                 2050      \n",
      "=================================================================\n",
      "Total params: 41,457,474\n",
      "Trainable params: 26,742,786\n",
      "Non-trainable params: 14,714,688\n",
      "_________________________________________________________________\n"
     ]
    }
   ],
   "source": [
    "model.summary()"
   ]
  },
  {
   "cell_type": "code",
   "execution_count": 4,
   "metadata": {
    "pycharm": {
     "is_executing": true,
     "name": "#%%\n"
    }
   },
   "outputs": [],
   "source": [
    "opt = keras.optimizers.Adam(learning_rate=0.0001)\n",
    "model.compile(loss=keras.losses.binary_crossentropy, optimizer=opt,metrics=['accuracy'])"
   ]
  },
  {
   "cell_type": "code",
   "execution_count": 5,
   "metadata": {
    "pycharm": {
     "is_executing": true,
     "name": "#%%\n"
    }
   },
   "outputs": [],
   "source": [
    "#Train from scratch\n",
    "train_datagen = image.ImageDataGenerator(\n",
    "    rescale = 1./255,\n",
    "    shear_range = 0.2,\n",
    "    zoom_range = 0.2,\n",
    "    horizontal_flip = True)\n",
    "\n",
    "test_dataset = image.ImageDataGenerator(rescale = 1./255)"
   ]
  },
  {
   "cell_type": "code",
   "execution_count": 6,
   "metadata": {
    "pycharm": {
     "is_executing": true,
     "name": "#%%\n"
    }
   },
   "outputs": [
    {
     "name": "stdout",
     "output_type": "stream",
     "text": [
      "Found 2033 images belonging to 2 classes.\n"
     ]
    }
   ],
   "source": [
    "train_generator = train_datagen.flow_from_directory(\n",
    "     \"../DataSet/covid_and_normal_xray_v1/train_data\",\n",
    "     target_size = (224,224),\n",
    "     batch_size =32,\n",
    "     class_mode ='categorical')"
   ]
  },
  {
   "cell_type": "code",
   "execution_count": 7,
   "metadata": {
    "pycharm": {
     "is_executing": true,
     "name": "#%%\n"
    }
   },
   "outputs": [
    {
     "name": "stdout",
     "output_type": "stream",
     "text": [
      "Found 508 images belonging to 2 classes.\n"
     ]
    }
   ],
   "source": [
    "validation_generator = test_dataset.flow_from_directory(\n",
    "    '../DataSet/covid_and_normal_xray_v1/test_data',\n",
    "    target_size = (224,224),\n",
    "    batch_size = 32,\n",
    "    class_mode ='categorical')\n"
   ]
  },
  {
   "cell_type": "code",
   "execution_count": 8,
   "metadata": {
    "pycharm": {
     "is_executing": true,
     "name": "#%%\n"
    }
   },
   "outputs": [
    {
     "name": "stdout",
     "output_type": "stream",
     "text": [
      "Epoch 1/10\n",
      "64/64 [==============================] - 286s 4s/step - loss: 0.3444 - accuracy: 0.8371 - val_loss: 0.0451 - val_accuracy: 0.9862\n",
      "Epoch 2/10\n",
      "64/64 [==============================] - 316s 5s/step - loss: 0.0423 - accuracy: 0.9863 - val_loss: 0.0116 - val_accuracy: 0.9961\n",
      "Epoch 3/10\n",
      "64/64 [==============================] - 303s 5s/step - loss: 0.0424 - accuracy: 0.9855 - val_loss: 0.0304 - val_accuracy: 0.9803\n",
      "Epoch 4/10\n",
      "64/64 [==============================] - 348s 5s/step - loss: 0.0230 - accuracy: 0.9910 - val_loss: 0.0111 - val_accuracy: 0.9961\n",
      "Epoch 5/10\n",
      "64/64 [==============================] - 327s 5s/step - loss: 0.0210 - accuracy: 0.9912 - val_loss: 0.0162 - val_accuracy: 0.9941\n",
      "Epoch 6/10\n",
      "64/64 [==============================] - 322s 5s/step - loss: 0.0228 - accuracy: 0.9927 - val_loss: 0.0350 - val_accuracy: 0.9823\n",
      "Epoch 7/10\n",
      "64/64 [==============================] - 353s 6s/step - loss: 0.0179 - accuracy: 0.9942 - val_loss: 0.0156 - val_accuracy: 0.9941\n",
      "Epoch 8/10\n",
      "64/64 [==============================] - 409s 6s/step - loss: 0.0245 - accuracy: 0.9924 - val_loss: 0.0629 - val_accuracy: 0.9744\n",
      "Epoch 9/10\n",
      "64/64 [==============================] - 344s 5s/step - loss: 0.0078 - accuracy: 0.9975 - val_loss: 0.0246 - val_accuracy: 0.9882\n",
      "Epoch 10/10\n",
      "64/64 [==============================] - 326s 5s/step - loss: 0.0150 - accuracy: 0.9950 - val_loss: 0.2581 - val_accuracy: 0.9232\n"
     ]
    }
   ],
   "source": [
    "hist = model.fit(\n",
    "    train_generator,\n",
    "    epochs = 10,\n",
    "    validation_data = validation_generator,\n",
    ")"
   ]
  },
  {
   "cell_type": "code",
   "execution_count": 9,
   "metadata": {
    "pycharm": {
     "is_executing": true,
     "name": "#%%\n"
    }
   },
   "outputs": [],
   "source": [
    "import matplotlib.pyplot as plt\n",
    "def plot_acc_loss(hist, epochs):\n",
    "    acc = hist.history['accuracy']\n",
    "    loss = hist.history['loss']\n",
    "    val_acc = hist.history['val_accuracy']\n",
    "    val_loss = hist.history['val_loss']\n",
    "    plt.figure(figsize=(15, 5))\n",
    "    plt.subplot(121)\n",
    "    plt.plot(range(1,epochs), acc[1:], label='Train_acc')\n",
    "    plt.plot(range(1,epochs), val_acc[1:], label='Test_acc')\n",
    "    plt.title('Accuracy over ' + str(epochs) + ' Epochs', size=15)\n",
    "    plt.legend()\n",
    "    plt.grid(True)\n",
    "    plt.subplot(122)\n",
    "    plt.plot(range(1,epochs), loss[1:], label='Train_loss')\n",
    "    plt.plot(range(1,epochs), val_loss[1:], label='Test_loss')\n",
    "    plt.title('Loss over ' + str(epochs) +  ' Epochs', size=15)\n",
    "    plt.legend()\n",
    "    plt.grid(True)\n",
    "    plt.show()"
   ]
  },
  {
   "cell_type": "code",
   "execution_count": 10,
   "metadata": {
    "pycharm": {
     "is_executing": true,
     "name": "#%%\n"
    }
   },
   "outputs": [
    {
     "name": "stdout",
     "output_type": "stream",
     "text": [
      "<tensorflow.python.keras.callbacks.History object at 0x7fa8311775c0>\n"
     ]
    }
   ],
   "source": [
    "print(hist)"
   ]
  },
  {
   "cell_type": "code",
   "execution_count": 11,
   "metadata": {
    "pycharm": {
     "is_executing": true
    }
   },
   "outputs": [
    {
     "data": {
      "image/png": "[encoded data removed]",
      "text/plain": [
       "<Figure size 1080x360 with 2 Axes>"
      ]
     },
     "metadata": {
      "needs_background": "light"
     },
     "output_type": "display_data"
    }
   ],
   "source": [
    "plot_acc_loss(hist,10)"
   ]
  },
  {
   "cell_type": "code",
   "execution_count": 12,
   "metadata": {
    "pycharm": {
     "is_executing": true,
     "name": "#%%\n"
    }
   },
   "outputs": [],
   "source": [
    "model.save(\"VGG16.h5\")"
   ]
  },
  {
   "cell_type": "code",
   "execution_count": 13,
   "metadata": {
    "pycharm": {
     "is_executing": true
    }
   },
   "outputs": [],
   "source": [
    "#Load model\n",
    "from tensorflow import keras\n",
    "model = keras.models.load_model('../DataSet/covid_and_normal_xray_v1/model_13_03.h5')"
   ]
  },
  {
   "cell_type": "code",
   "execution_count": 14,
   "metadata": {
    "pycharm": {
     "is_executing": true
    }
   },
   "outputs": [
    {
     "name": "stdout",
     "output_type": "stream",
     "text": [
      "Populating the interactive namespace from numpy and matplotlib\n"
     ]
    },
    {
     "name": "stderr",
     "output_type": "stream",
     "text": [
      "/home/oem/Desarrollo/Master/Homework/arf/covid19_x-ray_images/venv/lib/python3.7/site-packages/IPython/core/magics/pylab.py:160: UserWarning: pylab import has clobbered these variables: ['multiply', 'add', 'subtract', 'minimum', 'average', 'concatenate', 'hist', 'maximum', 'dot']\n",
      "`%matplotlib` prevents importing * from pylab and numpy\n",
      "  \"\\n`%matplotlib` prevents importing * from pylab and numpy\"\n"
     ]
    },
    {
     "data": {
      "image/png": "[encoded data removed]",
      "text/plain": [
       "<Figure size 432x288 with 1 Axes>"
      ]
     },
     "metadata": {
      "needs_background": "light"
     },
     "output_type": "display_data"
    }
   ],
   "source": [
    "%pylab inline\n",
    "import matplotlib.pyplot as plt\n",
    "import matplotlib.image as mpimg\n",
    "\n",
    "img=mpimg.imread('../DataSet/coronahack-chest-xraydataset/Coronahack-Chest-XRay-Dataset/train/1-s2.0-S1684118220300682-main.pdf-003-b2.png')\n",
    "imgplot = plt.imshow(img)\n",
    "\n",
    "test_image = image.load_img('../DataSet/coronahack-chest-xraydataset/Coronahack-Chest-XRay-Dataset/train/1-s2.0-S1684118220300682-main.pdf-003-b2.png', target_size = (224, 224))\n",
    "test_image = image.img_to_array(test_image)\n",
    "test_image = np.expand_dims(test_image, axis = 0)\n",
    "result = model.predict(test_image)\n",
    "\n",
    "if result[0][0] == 1:\n",
    "    prediction = 'normal'\n",
    "else:\n",
    "    prediction = 'covid'\n",
    "    \n",
    "#print(\"AI's prediction is: \"+ prediction)\n",
    "\n",
    "plt=plt.title('Prediction is  '+ prediction )\n",
    "#There we will test this following image, COVID-19 positive"
   ]
  },
  {
   "cell_type": "code",
   "execution_count": 15,
   "metadata": {
    "pycharm": {
     "is_executing": true
    }
   },
   "outputs": [
    {
     "name": "stdout",
     "output_type": "stream",
     "text": [
      "Found 288 images belonging to 2 classes.\n"
     ]
    }
   ],
   "source": [
    "#Prepare validation dataset\n",
    "test_dataset = image.ImageDataGenerator(rescale = 1./255)\n",
    "\n",
    "valid_generator = test_dataset.flow_from_directory(\n",
    "    '../DataSet/chest-xray-for-covid19-detection/Train',\n",
    "    target_size = (224,224),\n",
    "    batch_size = 32,\n",
    "    class_mode ='categorical',\n",
    "    shuffle = False\n",
    ")"
   ]
  },
  {
   "cell_type": "code",
   "execution_count": 16,
   "metadata": {
    "pycharm": {
     "is_executing": true
    }
   },
   "outputs": [
    {
     "name": "stdout",
     "output_type": "stream",
     "text": [
      "9/9 [==============================] - 36s 4s/step - loss: 3.7601 - accuracy: 0.5000\n",
      "Loss is: 3.760145425796509 accuracy is: 0.5\n"
     ]
    }
   ],
   "source": [
    "#See the score\n",
    "score = model.evaluate(valid_generator)\n",
    "print(\"Loss is:\", score[0], \"accuracy is:\", score[1])"
   ]
  },
  {
   "cell_type": "code",
   "execution_count": 17,
   "metadata": {
    "pycharm": {
     "is_executing": true
    }
   },
   "outputs": [
    {
     "ename": "AttributeError",
     "evalue": "'Text' object has no attribute 'tight_layout'",
     "output_type": "error",
     "traceback": [
      "\u001B[0;31m---------------------------------------------------------------------------\u001B[0m",
      "\u001B[0;31mAttributeError\u001B[0m                            Traceback (most recent call last)",
      "\u001B[0;32m<ipython-input-17-f7829ce7136a>\u001B[0m in \u001B[0;36m<module>\u001B[0;34m\u001B[0m\n\u001B[1;32m     15\u001B[0m                               \u001B[0mclass_names\u001B[0m \u001B[0;34m=\u001B[0m \u001B[0mclass_names\u001B[0m\u001B[0;34m,\u001B[0m\u001B[0;34m\u001B[0m\u001B[0;34m\u001B[0m\u001B[0m\n\u001B[1;32m     16\u001B[0m                               show_normed = False)\n\u001B[0;32m---> 17\u001B[0;31m \u001B[0mplt\u001B[0m\u001B[0;34m.\u001B[0m\u001B[0mtight_layout\u001B[0m\u001B[0;34m(\u001B[0m\u001B[0;34m)\u001B[0m\u001B[0;34m\u001B[0m\u001B[0;34m\u001B[0m\u001B[0m\n\u001B[0m",
      "\u001B[0;31mAttributeError\u001B[0m: 'Text' object has no attribute 'tight_layout'"
     ]
    },
    {
     "data": {
      "image/png": "[encoded data removed]",
      "text/plain": [
       "<Figure size 144x144 with 1 Axes>"
      ]
     },
     "metadata": {
      "needs_background": "light"
     },
     "output_type": "display_data"
    }
   ],
   "source": [
    "import itertools \n",
    "from sklearn.metrics import classification_report, confusion_matrix\n",
    "from mlxtend.plotting import plot_confusion_matrix\n",
    "import seaborn as sns\n",
    "%matplotlib inline\n",
    "\n",
    "#Let's build confusion matrix\n",
    "Y_pred = model.predict(valid_generator)\n",
    "y_pred = np.argmax(Y_pred, axis=1)\n",
    "\n",
    "cm = confusion_matrix(valid_generator.classes, y_pred)\n",
    "\n",
    "class_names = ['Covid','Normal']\n",
    "fig,ax = plot_confusion_matrix(conf_mat= cm, figsize=(2,2),\n",
    "                              class_names = class_names,\n",
    "                              show_normed = False)\n",
    "plt.tight_layout()"
   ]
  },
  {
   "cell_type": "code",
   "execution_count": 18,
   "metadata": {
    "pycharm": {
     "is_executing": true
    }
   },
   "outputs": [
    {
     "name": "stdout",
     "output_type": "stream",
     "text": [
      "[[4.28938029e-06]\n",
      " [1.00266933e-03]\n",
      " [3.08585167e-03]\n",
      " [3.00019979e-04]\n",
      " [5.87612391e-04]\n",
      " [8.79272819e-03]\n",
      " [2.74834037e-03]\n",
      " [1.07583404e-03]\n",
      " [1.87933445e-04]\n",
      " [4.40446734e-02]\n",
      " [5.75939417e-02]\n",
      " [5.19272089e-02]\n",
      " [4.22132015e-03]\n",
      " [8.94585252e-03]\n",
      " [3.64130735e-03]\n",
      " [2.32598186e-03]\n",
      " [2.74509192e-04]\n",
      " [1.78815899e-05]\n",
      " [3.14801931e-04]\n",
      " [2.18987465e-04]\n",
      " [4.31035733e-05]\n",
      " [2.00749934e-02]\n",
      " [1.70511007e-03]\n",
      " [6.13093376e-04]\n",
      " [2.27701664e-03]\n",
      " [9.07367939e-05]\n",
      " [1.43378973e-04]\n",
      " [2.55376101e-04]\n",
      " [3.11017036e-04]\n",
      " [1.67280287e-01]\n",
      " [1.55464411e-02]\n",
      " [7.90804625e-04]\n",
      " [1.54882669e-04]\n",
      " [9.08574462e-03]\n",
      " [2.45964527e-03]\n",
      " [1.66130066e-03]\n",
      " [1.00624561e-03]\n",
      " [1.71005726e-04]\n",
      " [1.93268061e-03]\n",
      " [6.48549914e-01]\n",
      " [4.81963158e-04]\n",
      " [4.18156385e-04]\n",
      " [3.46422195e-04]\n",
      " [1.52885914e-04]\n",
      " [2.58921981e-02]\n",
      " [1.83594227e-03]\n",
      " [1.09101195e-04]\n",
      " [9.58459079e-02]\n",
      " [8.37446569e-05]\n",
      " [3.48692536e-02]\n",
      " [3.75045383e-05]\n",
      " [3.35544348e-04]\n",
      " [6.34927928e-05]\n",
      " [1.88204646e-03]\n",
      " [6.12854958e-04]\n",
      " [4.34666872e-04]\n",
      " [5.06315947e-01]\n",
      " [7.93255895e-05]\n",
      " [1.14664217e-04]\n",
      " [9.57578421e-04]\n",
      " [7.87609816e-03]\n",
      " [4.39453125e-03]\n",
      " [8.86118412e-03]\n",
      " [4.68248129e-03]\n",
      " [9.71853733e-04]\n",
      " [1.06173456e-02]\n",
      " [2.27817893e-03]\n",
      " [2.17288733e-03]\n",
      " [1.81975752e-01]\n",
      " [2.11422145e-02]\n",
      " [6.43578172e-03]\n",
      " [3.55050266e-02]\n",
      " [2.06375122e-03]\n",
      " [9.38057492e-05]\n",
      " [2.21878290e-04]\n",
      " [5.72487712e-03]\n",
      " [2.27363408e-02]\n",
      " [8.17325711e-03]\n",
      " [1.80205703e-03]\n",
      " [8.68511200e-03]\n",
      " [2.05594599e-02]\n",
      " [1.39709115e-02]\n",
      " [6.08177125e-01]\n",
      " [1.66544348e-01]\n",
      " [4.67756391e-03]\n",
      " [3.58451903e-02]\n",
      " [5.24461269e-04]\n",
      " [3.48386288e-01]\n",
      " [7.81744719e-04]\n",
      " [1.44184828e-02]\n",
      " [8.39650631e-04]\n",
      " [2.33674645e-02]\n",
      " [7.69764185e-04]\n",
      " [1.18907690e-02]\n",
      " [1.18324161e-02]\n",
      " [3.88032240e-05]\n",
      " [4.40529883e-02]\n",
      " [6.76652789e-03]\n",
      " [5.17669320e-03]\n",
      " [1.51143372e-02]\n",
      " [6.73569739e-02]\n",
      " [4.29168940e-02]\n",
      " [1.55140519e-01]\n",
      " [1.52477592e-01]\n",
      " [1.20919526e-01]\n",
      " [1.26990676e-03]\n",
      " [2.70199776e-03]\n",
      " [4.97370958e-04]\n",
      " [1.50880218e-03]\n",
      " [1.27911568e-03]\n",
      " [4.68724966e-03]\n",
      " [9.06816125e-03]\n",
      " [4.55475062e-01]\n",
      " [6.43908978e-03]\n",
      " [1.89951062e-03]\n",
      " [2.71916389e-04]\n",
      " [1.99693441e-03]\n",
      " [4.54777479e-03]\n",
      " [1.52081251e-04]\n",
      " [3.83785367e-03]\n",
      " [3.25760245e-03]\n",
      " [2.16150582e-02]\n",
      " [1.31288171e-02]\n",
      " [7.88077712e-03]\n",
      " [6.03354216e-01]\n",
      " [6.11568749e-01]\n",
      " [4.80386615e-03]\n",
      " [1.66702271e-03]\n",
      " [5.68726659e-03]\n",
      " [2.36451626e-04]\n",
      " [1.10078454e-02]\n",
      " [6.19763494e-01]\n",
      " [1.03129119e-01]\n",
      " [3.02323788e-01]\n",
      " [3.90143454e-01]\n",
      " [5.57339191e-03]\n",
      " [2.10480690e-02]\n",
      " [2.73230672e-03]\n",
      " [4.84184325e-02]\n",
      " [2.92880058e-01]\n",
      " [6.44539250e-05]\n",
      " [1.70171261e-04]\n",
      " [1.32751465e-03]\n",
      " [1.18502336e-04]\n",
      " [9.99968767e-01]\n",
      " [9.99978304e-01]\n",
      " [9.97202337e-01]\n",
      " [9.99995947e-01]\n",
      " [9.99992371e-01]\n",
      " [9.99923587e-01]\n",
      " [9.99875426e-01]\n",
      " [9.99925613e-01]\n",
      " [9.98929858e-01]\n",
      " [9.99994397e-01]\n",
      " [9.99996066e-01]\n",
      " [9.99961436e-01]\n",
      " [9.78630245e-01]\n",
      " [9.99993801e-01]\n",
      " [9.99976695e-01]\n",
      " [9.99839902e-01]\n",
      " [9.99901533e-01]\n",
      " [9.99998331e-01]\n",
      " [9.96062636e-01]\n",
      " [9.99807358e-01]\n",
      " [9.99981046e-01]\n",
      " [9.99969900e-01]\n",
      " [9.96245027e-01]\n",
      " [9.99987721e-01]\n",
      " [9.99897003e-01]\n",
      " [9.99777257e-01]\n",
      " [9.99777555e-01]\n",
      " [9.99975324e-01]\n",
      " [9.99973297e-01]\n",
      " [9.99867558e-01]\n",
      " [9.99560952e-01]\n",
      " [9.99891520e-01]\n",
      " [9.99998987e-01]\n",
      " [9.99995768e-01]\n",
      " [9.99788880e-01]\n",
      " [9.98297572e-01]\n",
      " [9.99974370e-01]\n",
      " [9.99958515e-01]\n",
      " [9.99968112e-01]\n",
      " [9.99954343e-01]\n",
      " [9.99758184e-01]\n",
      " [9.99501467e-01]\n",
      " [9.99299705e-01]\n",
      " [9.99737322e-01]\n",
      " [9.99967039e-01]\n",
      " [9.99908566e-01]\n",
      " [9.95091319e-01]\n",
      " [9.99480605e-01]\n",
      " [9.99956012e-01]\n",
      " [9.99997735e-01]\n",
      " [9.99973297e-01]\n",
      " [9.99971509e-01]\n",
      " [9.99983370e-01]\n",
      " [9.99989629e-01]\n",
      " [9.99997735e-01]\n",
      " [9.99855697e-01]\n",
      " [9.99734700e-01]\n",
      " [9.99978423e-01]\n",
      " [9.99028802e-01]\n",
      " [9.99988556e-01]\n",
      " [9.85773504e-01]\n",
      " [9.99919534e-01]\n",
      " [9.99999166e-01]\n",
      " [9.99949336e-01]\n",
      " [9.99739170e-01]\n",
      " [9.99982953e-01]\n",
      " [9.99825001e-01]\n",
      " [9.99307036e-01]\n",
      " [9.90630269e-01]\n",
      " [9.99942839e-01]\n",
      " [9.99492407e-01]\n",
      " [9.99485970e-01]\n",
      " [9.98814166e-01]\n",
      " [9.99970078e-01]\n",
      " [9.99840677e-01]\n",
      " [9.99817014e-01]\n",
      " [9.99897301e-01]\n",
      " [9.99848783e-01]\n",
      " [9.99994457e-01]\n",
      " [9.99985456e-01]\n",
      " [9.99995351e-01]\n",
      " [9.99998689e-01]\n",
      " [9.91528749e-01]\n",
      " [9.99953926e-01]\n",
      " [9.99986172e-01]\n",
      " [9.99928832e-01]\n",
      " [9.99930143e-01]\n",
      " [9.99997020e-01]\n",
      " [9.42471445e-01]\n",
      " [9.99989033e-01]\n",
      " [9.96258140e-01]\n",
      " [9.99764919e-01]\n",
      " [9.99998868e-01]\n",
      " [9.87169564e-01]\n",
      " [9.99895990e-01]\n",
      " [9.99988496e-01]\n",
      " [9.99825001e-01]\n",
      " [9.88591075e-01]\n",
      " [9.99878943e-01]\n",
      " [9.38529253e-01]\n",
      " [9.99973655e-01]\n",
      " [9.99468327e-01]\n",
      " [9.95973587e-01]\n",
      " [9.99996305e-01]\n",
      " [9.99987543e-01]\n",
      " [9.99991536e-01]\n",
      " [9.99995947e-01]\n",
      " [9.97055411e-01]\n",
      " [9.98474836e-01]\n",
      " [9.99985933e-01]\n",
      " [7.44145513e-01]\n",
      " [9.99905765e-01]\n",
      " [9.93031621e-01]\n",
      " [9.99954224e-01]\n",
      " [9.99999046e-01]\n",
      " [9.99307752e-01]\n",
      " [9.99989867e-01]\n",
      " [9.99979496e-01]\n",
      " [9.99997258e-01]\n",
      " [9.99896526e-01]\n",
      " [9.99992251e-01]\n",
      " [9.99982715e-01]\n",
      " [9.99855638e-01]\n",
      " [9.99968529e-01]\n",
      " [9.99712229e-01]\n",
      " [9.99680519e-01]\n",
      " [9.99990523e-01]\n",
      " [9.99875546e-01]\n",
      " [9.99963045e-01]\n",
      " [9.99989748e-01]\n",
      " [9.99988914e-01]\n",
      " [9.99946713e-01]\n",
      " [9.99965906e-01]\n",
      " [9.99994159e-01]\n",
      " [9.94448900e-01]\n",
      " [9.99993622e-01]\n",
      " [9.97258425e-01]\n",
      " [9.99812961e-01]\n",
      " [9.99692202e-01]\n",
      " [9.99958277e-01]\n",
      " [9.99994993e-01]\n",
      " [9.99999285e-01]\n",
      " [8.93195152e-01]\n",
      " [9.89646196e-01]]\n"
     ]
    }
   ],
   "source": [
    "print(Y_pred)"
   ]
  },
  {
   "cell_type": "code",
   "execution_count": null,
   "metadata": {
    "pycharm": {
     "is_executing": true
    }
   },
   "outputs": [],
   "source": []
  },
  {
   "cell_type": "code",
   "execution_count": null,
   "metadata": {
    "pycharm": {
     "is_executing": true
    }
   },
   "outputs": [],
   "source": []
  },
  {
   "cell_type": "code",
   "execution_count": null,
   "metadata": {
    "pycharm": {
     "is_executing": true
    }
   },
   "outputs": [],
   "source": []
  }
 ],
 "metadata": {
  "kernelspec": {
   "display_name": "Python 3",
   "language": "python",
   "name": "python3"
  },
  "language_info": {
   "codemirror_mode": {
    "name": "ipython",
    "version": 3
   },
   "file_extension": ".py",
   "mimetype": "text/x-python",
   "name": "python",
   "nbconvert_exporter": "python",
   "pygments_lexer": "ipython3",
   "version": "3.7.2"
  }
 },
 "nbformat": 4,
 "nbformat_minor": 1
}